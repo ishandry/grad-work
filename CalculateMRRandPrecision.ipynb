{
 "cells": [
  {
   "cell_type": "code",
   "execution_count": 17,
   "id": "229c774f-f8e6-483c-a2e9-15fec3da41e1",
   "metadata": {},
   "outputs": [
    {
     "name": "stdin",
     "output_type": "stream",
     "text": [
      "Введіть 11 значень ранків (цілі числа, 0 = не знайдено), розділених пробілом:  0 1 0 2 0 3 2 4 0 1 1\n"
     ]
    },
    {
     "name": "stdout",
     "output_type": "stream",
     "text": [
      "MRR для заданих 11 значень (0 = відсутність релевантного): 0.4167\n"
     ]
    }
   ],
   "source": [
    "# Код для обчислення MRR за 11 значеннями ранків (0 означає «не знайдено релевантного документа»)\n",
    "\n",
    "ranks_input = input(\"Введіть 11 значень ранків (цілі числа, 0 = не знайдено), розділених пробілом: \")\n",
    "ranks = list(map(int, ranks_input.strip().split()))\n",
    "\n",
    "if len(ranks) != 11:\n",
    "    raise ValueError(\"Потрібно ввести рівно 11 значень ранків (можна використовувати 0).\")\n",
    "\n",
    "# Обчислюємо MRR: якщо ранг = 0, вважаємо reciprocal rank = 0\n",
    "reciprocal_ranks = [(1.0 / r) if r > 0 else 0.0 for r in ranks]\n",
    "mrr = sum(reciprocal_ranks) / len(ranks)\n",
    "\n",
    "print(f\"MRR для заданих 11 значень (0 = відсутність релевантного): {mrr:.4f}\")\n"
   ]
  },
  {
   "cell_type": "code",
   "execution_count": 29,
   "id": "7973d2a9-3138-4959-a613-fb691fdfff60",
   "metadata": {},
   "outputs": [
    {
     "name": "stdin",
     "output_type": "stream",
     "text": [
      "Введіть значення K (ціле число):  10\n",
      "Введіть 11 цілих чисел (к-ть релевантних у топ-K для кожного запиту), розділених пробілом:  0 4 0 3 0 2 2 1 0 3 6\n"
     ]
    },
    {
     "name": "stdout",
     "output_type": "stream",
     "text": [
      "Precision@10 для кожного запиту: [0.0, 0.4, 0.0, 0.3, 0.0, 0.2, 0.2, 0.1, 0.0, 0.3, 0.6]\n",
      "Середнє Precision@10 за 11 запитами: 0.1909\n"
     ]
    }
   ],
   "source": [
    "# Код для обчислення Precision@K як середнього з 11 запитів\n",
    "\n",
    "K = int(input(\"Введіть значення K (ціле число): \"))\n",
    "\n",
    "counts_input = input(\n",
    "    \"Введіть 11 цілих чисел (к-ть релевантних у топ-K для кожного запиту), розділених пробілом: \"\n",
    ")\n",
    "counts = list(map(int, counts_input.strip().split()))\n",
    "\n",
    "if len(counts) != 11:\n",
    "    raise ValueError(\"Потрібно ввести рівно 11 значень (кількість релевантних у топ-K).\")\n",
    "\n",
    "for c in counts:\n",
    "    if c < 0 or c > K:\n",
    "        raise ValueError(f\"Кількість релевантних документів ({c}) має бути між 0 та K ({K}).\")\n",
    "\n",
    "precisions = [c / K for c in counts]\n",
    "\n",
    "# Обчислюємо середнє Precision@K по 11 запитах\n",
    "mean_precision = sum(precisions) / len(precisions)\n",
    "\n",
    "print(f\"Precision@{K} для кожного запиту: {[round(p, 4) for p in precisions]}\")\n",
    "print(f\"Середнє Precision@{K} за 11 запитами: {mean_precision:.4f}\")\n"
   ]
  },
  {
   "cell_type": "code",
   "execution_count": null,
   "id": "261e2344-3fb5-40a5-8437-9a0498e11f24",
   "metadata": {},
   "outputs": [],
   "source": []
  }
 ],
 "metadata": {
  "kernelspec": {
   "display_name": "Python 3 (ipykernel)",
   "language": "python",
   "name": "python3"
  },
  "language_info": {
   "codemirror_mode": {
    "name": "ipython",
    "version": 3
   },
   "file_extension": ".py",
   "mimetype": "text/x-python",
   "name": "python",
   "nbconvert_exporter": "python",
   "pygments_lexer": "ipython3",
   "version": "3.11.7"
  }
 },
 "nbformat": 4,
 "nbformat_minor": 5
}
